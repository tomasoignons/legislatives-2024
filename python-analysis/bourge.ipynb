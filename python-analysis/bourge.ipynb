{
 "cells": [
  {
   "cell_type": "code",
   "execution_count": 15,
   "metadata": {},
   "outputs": [
    {
     "name": "stdout",
     "output_type": "stream",
     "text": [
      "candidat\n",
      "M. Jordan BARDELLA       44\n",
      "Mme Valérie HAYER         6\n",
      "Mme Manon AUBRY           5\n",
      "M. Raphaël GLUCKSMANN     4\n",
      "Name: count, dtype: int64\n"
     ]
    }
   ],
   "source": [
    "import pandas as pd\n",
    "import json\n",
    "\n",
    "# Load the data\n",
    "with open('../data/resultats_elections_europennes_2024_bourges.json', 'r') as f:\n",
    "    data = json.load(f)\n",
    "\n",
    "# Create a DataFrame\n",
    "df = pd.DataFrame(data)\n",
    "\n",
    "# Group by 'bureau' and find the row with the maximum 'nb_voix' in each group\n",
    "df_max_votes = df.loc[df.groupby('bureau')['nb_voix'].idxmax()]\n",
    "\n",
    "print(df_max_votes[\"candidat\"].value_counts())"
   ]
  },
  {
   "cell_type": "code",
   "execution_count": null,
   "metadata": {},
   "outputs": [],
   "source": []
  }
 ],
 "metadata": {
  "kernelspec": {
   "display_name": "base",
   "language": "python",
   "name": "python3"
  },
  "language_info": {
   "codemirror_mode": {
    "name": "ipython",
    "version": 3
   },
   "file_extension": ".py",
   "mimetype": "text/x-python",
   "name": "python",
   "nbconvert_exporter": "python",
   "pygments_lexer": "ipython3",
   "version": "3.11.7"
  }
 },
 "nbformat": 4,
 "nbformat_minor": 2
}
