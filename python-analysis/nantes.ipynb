{
 "cells": [
  {
   "cell_type": "code",
   "execution_count": 2,
   "metadata": {},
   "outputs": [
    {
     "name": "stdout",
     "output_type": "stream",
     "text": [
      "majority_party\n",
      "reveiller_l_europe                     162\n",
      "la_france_insoumise_union_populaire     32\n",
      "besoin_d_europe                          9\n",
      "la_france_revient                        5\n",
      "Name: count, dtype: int64\n"
     ]
    }
   ],
   "source": [
    "import pandas as pd\n",
    "import json\n",
    "\n",
    "# Load the data\n",
    "with open('../data/244400404_election-europeenne-2024-nantes.json', 'r') as f:\n",
    "    data = json.load(f)\n",
    "\n",
    "# Create a DataFrame\n",
    "df = pd.DataFrame(data)\n",
    "\n",
    "# Exclude non-voting columns\n",
    "voting_columns = df.columns.difference(['idbureau', 'bureau_de_vote', 'inscrits', 'procurations', 'blancs', 'nuls', 'exprimes', 'votants'])\n",
    "\n",
    "# Find the party with the most votes in each bureau\n",
    "df['majority_party'] = df[voting_columns].idxmax(axis=1)\n",
    "\n",
    "# Count the number of bureaus where each party had the majority\n",
    "majority_counts = df['majority_party'].value_counts()\n",
    "\n",
    "print(majority_counts)"
   ]
  },
  {
   "cell_type": "code",
   "execution_count": null,
   "metadata": {},
   "outputs": [],
   "source": []
  }
 ],
 "metadata": {
  "kernelspec": {
   "display_name": "base",
   "language": "python",
   "name": "python3"
  },
  "language_info": {
   "codemirror_mode": {
    "name": "ipython",
    "version": 3
   },
   "file_extension": ".py",
   "mimetype": "text/x-python",
   "name": "python",
   "nbconvert_exporter": "python",
   "pygments_lexer": "ipython3",
   "version": "3.1.undefined"
  }
 },
 "nbformat": 4,
 "nbformat_minor": 2
}
